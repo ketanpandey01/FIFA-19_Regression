{
  "nbformat": 4,
  "nbformat_minor": 0,
  "metadata": {
    "colab": {
      "name": "FIFA'19.ipynb",
      "version": "0.3.2",
      "provenance": [],
      "collapsed_sections": [],
      "include_colab_link": true
    },
    "kernelspec": {
      "name": "python3",
      "display_name": "Python 3"
    }
  },
  "cells": [
    {
      "cell_type": "markdown",
      "metadata": {
        "id": "view-in-github",
        "colab_type": "text"
      },
      "source": [
        "<a href=\"https://colab.research.google.com/github/ketanpandey01/FIFA-19_Regression/blob/master/FIFA'19.ipynb\" target=\"_parent\"><img src=\"https://colab.research.google.com/assets/colab-badge.svg\" alt=\"Open In Colab\"/></a>"
      ]
    },
    {
      "cell_type": "markdown",
      "metadata": {
        "id": "sGdTRj_33Ita",
        "colab_type": "text"
      },
      "source": [
        "#Market Value Prediction\n",
        "\n",
        "###Welcome to FIFA'19! Our task is to predict the market value of a football player, given FIFA'19 video game dataset."
      ]
    },
    {
      "cell_type": "markdown",
      "metadata": {
        "id": "qtnd3Swpv6fa",
        "colab_type": "text"
      },
      "source": [
        "#Import the dependencies"
      ]
    },
    {
      "cell_type": "code",
      "metadata": {
        "id": "SsBpLZgzv4M6",
        "colab_type": "code",
        "colab": {}
      },
      "source": [
        "# Data manipulation\n",
        "import pandas as pd\n",
        "import numpy as np\n",
        "\n",
        "# Data visualization\n",
        "import matplotlib.pyplot as plt\n",
        "import seaborn as sb\n",
        "from pandas.plotting import scatter_matrix\n",
        "\n",
        "# Machine Learning Algorithms\n",
        "from sklearn.linear_model import LinearRegression\n",
        "from sklearn.tree import DecisionTreeRegressor\n",
        "from sklearn.ensemble import RandomForestRegressor\n",
        "from sklearn.svm import SVR\n",
        "\n",
        "# Model Selection and Evaluation\n",
        "from sklearn.model_selection import train_test_split\n",
        "from sklearn.model_selection import cross_val_score\n",
        "from sklearn.model_selection import GridSearchCV\n",
        "\n",
        "# Performance\n",
        "from sklearn.metrics import mean_squared_error\n",
        "from sklearn.metrics import r2_score\n",
        "\n",
        "# For Missing Values\n",
        "from sklearn.impute import SimpleImputer\n"
      ],
      "execution_count": 0,
      "outputs": []
    },
    {
      "cell_type": "markdown",
      "metadata": {
        "id": "dOMIQCzt3XpP",
        "colab_type": "text"
      },
      "source": [
        "#Get the data"
      ]
    },
    {
      "cell_type": "code",
      "metadata": {
        "id": "JJ1Fay5v3x36",
        "colab_type": "code",
        "colab": {}
      },
      "source": [
        "from google.colab import drive\n",
        "drive.mount('/content/drive/')"
      ],
      "execution_count": 0,
      "outputs": []
    },
    {
      "cell_type": "code",
      "metadata": {
        "id": "hzccnnl333iZ",
        "colab_type": "code",
        "colab": {}
      },
      "source": [
        "fifa_raw_dataset = pd.read_csv('/content/drive/My Drive/FIFA_data.csv')"
      ],
      "execution_count": 0,
      "outputs": []
    },
    {
      "cell_type": "markdown",
      "metadata": {
        "id": "jbcypMXV36x_",
        "colab_type": "text"
      },
      "source": [
        "#Take a look at the data and the datastructure."
      ]
    },
    {
      "cell_type": "code",
      "metadata": {
        "id": "ZFpm2ONC4LV4",
        "colab_type": "code",
        "outputId": "ff082104-8f60-4c6c-c0da-38695bd025bf",
        "colab": {
          "base_uri": "https://localhost:8080/",
          "height": 355
        }
      },
      "source": [
        "fifa_raw_dataset.head()"
      ],
      "execution_count": 182,
      "outputs": [
        {
          "output_type": "execute_result",
          "data": {
            "text/html": [
              "<div>\n",
              "<style scoped>\n",
              "    .dataframe tbody tr th:only-of-type {\n",
              "        vertical-align: middle;\n",
              "    }\n",
              "\n",
              "    .dataframe tbody tr th {\n",
              "        vertical-align: top;\n",
              "    }\n",
              "\n",
              "    .dataframe thead th {\n",
              "        text-align: right;\n",
              "    }\n",
              "</style>\n",
              "<table border=\"1\" class=\"dataframe\">\n",
              "  <thead>\n",
              "    <tr style=\"text-align: right;\">\n",
              "      <th></th>\n",
              "      <th>Unnamed: 0</th>\n",
              "      <th>ID</th>\n",
              "      <th>Name</th>\n",
              "      <th>Age</th>\n",
              "      <th>Photo</th>\n",
              "      <th>Nationality</th>\n",
              "      <th>Flag</th>\n",
              "      <th>Overall</th>\n",
              "      <th>Potential</th>\n",
              "      <th>Club</th>\n",
              "      <th>...</th>\n",
              "      <th>Composure</th>\n",
              "      <th>Marking</th>\n",
              "      <th>StandingTackle</th>\n",
              "      <th>SlidingTackle</th>\n",
              "      <th>GKDiving</th>\n",
              "      <th>GKHandling</th>\n",
              "      <th>GKKicking</th>\n",
              "      <th>GKPositioning</th>\n",
              "      <th>GKReflexes</th>\n",
              "      <th>Release Clause</th>\n",
              "    </tr>\n",
              "  </thead>\n",
              "  <tbody>\n",
              "    <tr>\n",
              "      <th>0</th>\n",
              "      <td>0</td>\n",
              "      <td>158023</td>\n",
              "      <td>L. Messi</td>\n",
              "      <td>31</td>\n",
              "      <td>https://cdn.sofifa.org/players/4/19/158023.png</td>\n",
              "      <td>Argentina</td>\n",
              "      <td>https://cdn.sofifa.org/flags/52.png</td>\n",
              "      <td>94</td>\n",
              "      <td>94</td>\n",
              "      <td>FC Barcelona</td>\n",
              "      <td>...</td>\n",
              "      <td>96.0</td>\n",
              "      <td>33.0</td>\n",
              "      <td>28.0</td>\n",
              "      <td>26.0</td>\n",
              "      <td>6.0</td>\n",
              "      <td>11.0</td>\n",
              "      <td>15.0</td>\n",
              "      <td>14.0</td>\n",
              "      <td>8.0</td>\n",
              "      <td>€226.5M</td>\n",
              "    </tr>\n",
              "    <tr>\n",
              "      <th>1</th>\n",
              "      <td>1</td>\n",
              "      <td>20801</td>\n",
              "      <td>Cristiano Ronaldo</td>\n",
              "      <td>33</td>\n",
              "      <td>https://cdn.sofifa.org/players/4/19/20801.png</td>\n",
              "      <td>Portugal</td>\n",
              "      <td>https://cdn.sofifa.org/flags/38.png</td>\n",
              "      <td>94</td>\n",
              "      <td>94</td>\n",
              "      <td>Juventus</td>\n",
              "      <td>...</td>\n",
              "      <td>95.0</td>\n",
              "      <td>28.0</td>\n",
              "      <td>31.0</td>\n",
              "      <td>23.0</td>\n",
              "      <td>7.0</td>\n",
              "      <td>11.0</td>\n",
              "      <td>15.0</td>\n",
              "      <td>14.0</td>\n",
              "      <td>11.0</td>\n",
              "      <td>€127.1M</td>\n",
              "    </tr>\n",
              "    <tr>\n",
              "      <th>2</th>\n",
              "      <td>2</td>\n",
              "      <td>190871</td>\n",
              "      <td>Neymar Jr</td>\n",
              "      <td>26</td>\n",
              "      <td>https://cdn.sofifa.org/players/4/19/190871.png</td>\n",
              "      <td>Brazil</td>\n",
              "      <td>https://cdn.sofifa.org/flags/54.png</td>\n",
              "      <td>92</td>\n",
              "      <td>93</td>\n",
              "      <td>Paris Saint-Germain</td>\n",
              "      <td>...</td>\n",
              "      <td>94.0</td>\n",
              "      <td>27.0</td>\n",
              "      <td>24.0</td>\n",
              "      <td>33.0</td>\n",
              "      <td>9.0</td>\n",
              "      <td>9.0</td>\n",
              "      <td>15.0</td>\n",
              "      <td>15.0</td>\n",
              "      <td>11.0</td>\n",
              "      <td>€228.1M</td>\n",
              "    </tr>\n",
              "    <tr>\n",
              "      <th>3</th>\n",
              "      <td>3</td>\n",
              "      <td>193080</td>\n",
              "      <td>De Gea</td>\n",
              "      <td>27</td>\n",
              "      <td>https://cdn.sofifa.org/players/4/19/193080.png</td>\n",
              "      <td>Spain</td>\n",
              "      <td>https://cdn.sofifa.org/flags/45.png</td>\n",
              "      <td>91</td>\n",
              "      <td>93</td>\n",
              "      <td>Manchester United</td>\n",
              "      <td>...</td>\n",
              "      <td>68.0</td>\n",
              "      <td>15.0</td>\n",
              "      <td>21.0</td>\n",
              "      <td>13.0</td>\n",
              "      <td>90.0</td>\n",
              "      <td>85.0</td>\n",
              "      <td>87.0</td>\n",
              "      <td>88.0</td>\n",
              "      <td>94.0</td>\n",
              "      <td>€138.6M</td>\n",
              "    </tr>\n",
              "    <tr>\n",
              "      <th>4</th>\n",
              "      <td>4</td>\n",
              "      <td>192985</td>\n",
              "      <td>K. De Bruyne</td>\n",
              "      <td>27</td>\n",
              "      <td>https://cdn.sofifa.org/players/4/19/192985.png</td>\n",
              "      <td>Belgium</td>\n",
              "      <td>https://cdn.sofifa.org/flags/7.png</td>\n",
              "      <td>91</td>\n",
              "      <td>92</td>\n",
              "      <td>Manchester City</td>\n",
              "      <td>...</td>\n",
              "      <td>88.0</td>\n",
              "      <td>68.0</td>\n",
              "      <td>58.0</td>\n",
              "      <td>51.0</td>\n",
              "      <td>15.0</td>\n",
              "      <td>13.0</td>\n",
              "      <td>5.0</td>\n",
              "      <td>10.0</td>\n",
              "      <td>13.0</td>\n",
              "      <td>€196.4M</td>\n",
              "    </tr>\n",
              "  </tbody>\n",
              "</table>\n",
              "<p>5 rows × 89 columns</p>\n",
              "</div>"
            ],
            "text/plain": [
              "   Unnamed: 0      ID               Name  Age  \\\n",
              "0           0  158023           L. Messi   31   \n",
              "1           1   20801  Cristiano Ronaldo   33   \n",
              "2           2  190871          Neymar Jr   26   \n",
              "3           3  193080             De Gea   27   \n",
              "4           4  192985       K. De Bruyne   27   \n",
              "\n",
              "                                            Photo Nationality  \\\n",
              "0  https://cdn.sofifa.org/players/4/19/158023.png   Argentina   \n",
              "1   https://cdn.sofifa.org/players/4/19/20801.png    Portugal   \n",
              "2  https://cdn.sofifa.org/players/4/19/190871.png      Brazil   \n",
              "3  https://cdn.sofifa.org/players/4/19/193080.png       Spain   \n",
              "4  https://cdn.sofifa.org/players/4/19/192985.png     Belgium   \n",
              "\n",
              "                                  Flag  Overall  Potential  \\\n",
              "0  https://cdn.sofifa.org/flags/52.png       94         94   \n",
              "1  https://cdn.sofifa.org/flags/38.png       94         94   \n",
              "2  https://cdn.sofifa.org/flags/54.png       92         93   \n",
              "3  https://cdn.sofifa.org/flags/45.png       91         93   \n",
              "4   https://cdn.sofifa.org/flags/7.png       91         92   \n",
              "\n",
              "                  Club  ... Composure Marking StandingTackle  SlidingTackle  \\\n",
              "0         FC Barcelona  ...      96.0    33.0           28.0           26.0   \n",
              "1             Juventus  ...      95.0    28.0           31.0           23.0   \n",
              "2  Paris Saint-Germain  ...      94.0    27.0           24.0           33.0   \n",
              "3    Manchester United  ...      68.0    15.0           21.0           13.0   \n",
              "4      Manchester City  ...      88.0    68.0           58.0           51.0   \n",
              "\n",
              "  GKDiving  GKHandling  GKKicking  GKPositioning GKReflexes Release Clause  \n",
              "0      6.0        11.0       15.0           14.0        8.0        €226.5M  \n",
              "1      7.0        11.0       15.0           14.0       11.0        €127.1M  \n",
              "2      9.0         9.0       15.0           15.0       11.0        €228.1M  \n",
              "3     90.0        85.0       87.0           88.0       94.0        €138.6M  \n",
              "4     15.0        13.0        5.0           10.0       13.0        €196.4M  \n",
              "\n",
              "[5 rows x 89 columns]"
            ]
          },
          "metadata": {
            "tags": []
          },
          "execution_count": 182
        }
      ]
    },
    {
      "cell_type": "code",
      "metadata": {
        "id": "dHV-cExn4WNe",
        "colab_type": "code",
        "outputId": "29d12360-e2ab-4620-a2a2-37bd24ef81eb",
        "colab": {
          "base_uri": "https://localhost:8080/",
          "height": 1615
        }
      },
      "source": [
        "fifa_raw_dataset.info()"
      ],
      "execution_count": 183,
      "outputs": [
        {
          "output_type": "stream",
          "text": [
            "<class 'pandas.core.frame.DataFrame'>\n",
            "RangeIndex: 18207 entries, 0 to 18206\n",
            "Data columns (total 89 columns):\n",
            "Unnamed: 0                  18207 non-null int64\n",
            "ID                          18207 non-null int64\n",
            "Name                        18207 non-null object\n",
            "Age                         18207 non-null int64\n",
            "Photo                       18207 non-null object\n",
            "Nationality                 18207 non-null object\n",
            "Flag                        18207 non-null object\n",
            "Overall                     18207 non-null int64\n",
            "Potential                   18207 non-null int64\n",
            "Club                        17966 non-null object\n",
            "Club Logo                   18207 non-null object\n",
            "Value                       18207 non-null object\n",
            "Wage                        18207 non-null object\n",
            "Special                     18207 non-null int64\n",
            "Preferred Foot              18159 non-null object\n",
            "International Reputation    18159 non-null float64\n",
            "Weak Foot                   18159 non-null float64\n",
            "Skill Moves                 18159 non-null float64\n",
            "Work Rate                   18159 non-null object\n",
            "Body Type                   18159 non-null object\n",
            "Real Face                   18159 non-null object\n",
            "Position                    18147 non-null object\n",
            "Jersey Number               18147 non-null float64\n",
            "Joined                      16654 non-null object\n",
            "Loaned From                 1264 non-null object\n",
            "Contract Valid Until        17918 non-null object\n",
            "Height                      18159 non-null object\n",
            "Weight                      18159 non-null object\n",
            "LS                          16122 non-null object\n",
            "ST                          16122 non-null object\n",
            "RS                          16122 non-null object\n",
            "LW                          16122 non-null object\n",
            "LF                          16122 non-null object\n",
            "CF                          16122 non-null object\n",
            "RF                          16122 non-null object\n",
            "RW                          16122 non-null object\n",
            "LAM                         16122 non-null object\n",
            "CAM                         16122 non-null object\n",
            "RAM                         16122 non-null object\n",
            "LM                          16122 non-null object\n",
            "LCM                         16122 non-null object\n",
            "CM                          16122 non-null object\n",
            "RCM                         16122 non-null object\n",
            "RM                          16122 non-null object\n",
            "LWB                         16122 non-null object\n",
            "LDM                         16122 non-null object\n",
            "CDM                         16122 non-null object\n",
            "RDM                         16122 non-null object\n",
            "RWB                         16122 non-null object\n",
            "LB                          16122 non-null object\n",
            "LCB                         16122 non-null object\n",
            "CB                          16122 non-null object\n",
            "RCB                         16122 non-null object\n",
            "RB                          16122 non-null object\n",
            "Crossing                    18159 non-null float64\n",
            "Finishing                   18159 non-null float64\n",
            "HeadingAccuracy             18159 non-null float64\n",
            "ShortPassing                18159 non-null float64\n",
            "Volleys                     18159 non-null float64\n",
            "Dribbling                   18159 non-null float64\n",
            "Curve                       18159 non-null float64\n",
            "FKAccuracy                  18159 non-null float64\n",
            "LongPassing                 18159 non-null float64\n",
            "BallControl                 18159 non-null float64\n",
            "Acceleration                18159 non-null float64\n",
            "SprintSpeed                 18159 non-null float64\n",
            "Agility                     18159 non-null float64\n",
            "Reactions                   18159 non-null float64\n",
            "Balance                     18159 non-null float64\n",
            "ShotPower                   18159 non-null float64\n",
            "Jumping                     18159 non-null float64\n",
            "Stamina                     18159 non-null float64\n",
            "Strength                    18159 non-null float64\n",
            "LongShots                   18159 non-null float64\n",
            "Aggression                  18159 non-null float64\n",
            "Interceptions               18159 non-null float64\n",
            "Positioning                 18159 non-null float64\n",
            "Vision                      18159 non-null float64\n",
            "Penalties                   18159 non-null float64\n",
            "Composure                   18159 non-null float64\n",
            "Marking                     18159 non-null float64\n",
            "StandingTackle              18159 non-null float64\n",
            "SlidingTackle               18159 non-null float64\n",
            "GKDiving                    18159 non-null float64\n",
            "GKHandling                  18159 non-null float64\n",
            "GKKicking                   18159 non-null float64\n",
            "GKPositioning               18159 non-null float64\n",
            "GKReflexes                  18159 non-null float64\n",
            "Release Clause              16643 non-null object\n",
            "dtypes: float64(38), int64(6), object(45)\n",
            "memory usage: 12.4+ MB\n"
          ],
          "name": "stdout"
        }
      ]
    },
    {
      "cell_type": "code",
      "metadata": {
        "id": "QeXQ9ftYYFhJ",
        "colab_type": "code",
        "outputId": "9e857f2d-1f69-4c40-8d1a-83e0570aa2e1",
        "colab": {
          "base_uri": "https://localhost:8080/",
          "height": 34
        }
      },
      "source": [
        "fifa_raw_dataset.shape"
      ],
      "execution_count": 184,
      "outputs": [
        {
          "output_type": "execute_result",
          "data": {
            "text/plain": [
              "(18207, 89)"
            ]
          },
          "metadata": {
            "tags": []
          },
          "execution_count": 184
        }
      ]
    },
    {
      "cell_type": "markdown",
      "metadata": {
        "id": "zNDpVDNY4YxF",
        "colab_type": "text"
      },
      "source": [
        "#Feature Selection\n",
        "###`Based on my intuition and football knowledge, I selected below features which could be best used to predict a player's market value.`"
      ]
    },
    {
      "cell_type": "code",
      "metadata": {
        "id": "SzclTxJs4bv_",
        "colab_type": "code",
        "outputId": "9e0b11e5-5e00-44e5-ed14-4bae1b18f9bf",
        "colab": {
          "base_uri": "https://localhost:8080/",
          "height": 204
        }
      },
      "source": [
        "features = ['International Reputation', 'Overall', 'Potential', 'Reactions', 'Composure', 'Value']\n",
        "fifa_dataset = fifa_raw_dataset[[*features]]\n",
        "fifa_dataset.head()"
      ],
      "execution_count": 185,
      "outputs": [
        {
          "output_type": "execute_result",
          "data": {
            "text/html": [
              "<div>\n",
              "<style scoped>\n",
              "    .dataframe tbody tr th:only-of-type {\n",
              "        vertical-align: middle;\n",
              "    }\n",
              "\n",
              "    .dataframe tbody tr th {\n",
              "        vertical-align: top;\n",
              "    }\n",
              "\n",
              "    .dataframe thead th {\n",
              "        text-align: right;\n",
              "    }\n",
              "</style>\n",
              "<table border=\"1\" class=\"dataframe\">\n",
              "  <thead>\n",
              "    <tr style=\"text-align: right;\">\n",
              "      <th></th>\n",
              "      <th>International Reputation</th>\n",
              "      <th>Overall</th>\n",
              "      <th>Potential</th>\n",
              "      <th>Reactions</th>\n",
              "      <th>Composure</th>\n",
              "      <th>Value</th>\n",
              "    </tr>\n",
              "  </thead>\n",
              "  <tbody>\n",
              "    <tr>\n",
              "      <th>0</th>\n",
              "      <td>5.0</td>\n",
              "      <td>94</td>\n",
              "      <td>94</td>\n",
              "      <td>95.0</td>\n",
              "      <td>96.0</td>\n",
              "      <td>€110.5M</td>\n",
              "    </tr>\n",
              "    <tr>\n",
              "      <th>1</th>\n",
              "      <td>5.0</td>\n",
              "      <td>94</td>\n",
              "      <td>94</td>\n",
              "      <td>96.0</td>\n",
              "      <td>95.0</td>\n",
              "      <td>€77M</td>\n",
              "    </tr>\n",
              "    <tr>\n",
              "      <th>2</th>\n",
              "      <td>5.0</td>\n",
              "      <td>92</td>\n",
              "      <td>93</td>\n",
              "      <td>94.0</td>\n",
              "      <td>94.0</td>\n",
              "      <td>€118.5M</td>\n",
              "    </tr>\n",
              "    <tr>\n",
              "      <th>3</th>\n",
              "      <td>4.0</td>\n",
              "      <td>91</td>\n",
              "      <td>93</td>\n",
              "      <td>90.0</td>\n",
              "      <td>68.0</td>\n",
              "      <td>€72M</td>\n",
              "    </tr>\n",
              "    <tr>\n",
              "      <th>4</th>\n",
              "      <td>4.0</td>\n",
              "      <td>91</td>\n",
              "      <td>92</td>\n",
              "      <td>91.0</td>\n",
              "      <td>88.0</td>\n",
              "      <td>€102M</td>\n",
              "    </tr>\n",
              "  </tbody>\n",
              "</table>\n",
              "</div>"
            ],
            "text/plain": [
              "   International Reputation  Overall  Potential  Reactions  Composure    Value\n",
              "0                       5.0       94         94       95.0       96.0  €110.5M\n",
              "1                       5.0       94         94       96.0       95.0     €77M\n",
              "2                       5.0       92         93       94.0       94.0  €118.5M\n",
              "3                       4.0       91         93       90.0       68.0     €72M\n",
              "4                       4.0       91         92       91.0       88.0    €102M"
            ]
          },
          "metadata": {
            "tags": []
          },
          "execution_count": 185
        }
      ]
    },
    {
      "cell_type": "code",
      "metadata": {
        "id": "WYorNpLpZiZ0",
        "colab_type": "code",
        "outputId": "601211cb-baad-4671-e042-e68d6ac3409a",
        "colab": {
          "base_uri": "https://localhost:8080/",
          "height": 34
        }
      },
      "source": [
        "fifa_dataset.shape"
      ],
      "execution_count": 186,
      "outputs": [
        {
          "output_type": "execute_result",
          "data": {
            "text/plain": [
              "(18207, 6)"
            ]
          },
          "metadata": {
            "tags": []
          },
          "execution_count": 186
        }
      ]
    },
    {
      "cell_type": "markdown",
      "metadata": {
        "id": "nh-V0qSE53sD",
        "colab_type": "text"
      },
      "source": [
        "###For the purpose of exploring and visualizing the dataset, we need to first parse and convert the 'Value' feature (which is our output label) to number form."
      ]
    },
    {
      "cell_type": "code",
      "metadata": {
        "id": "SHqMoERq6bK6",
        "colab_type": "code",
        "colab": {}
      },
      "source": [
        "#parse string for millions and thousands to numeric values\n",
        "def parseValue(x):\n",
        "    x = str(x).replace('€', '')\n",
        "    if('M' in str(x)):\n",
        "        x = str(x).replace('M', '')\n",
        "        x = float(x) * 1000000\n",
        "    elif('K' in str(x)):\n",
        "        x = str(x).replace('K', '')\n",
        "        x = float(x) * 1000\n",
        "    return float(x)\n",
        "\n",
        "fifa_dataset['Value'] = fifa_dataset['Value'].apply(parseValue)"
      ],
      "execution_count": 0,
      "outputs": []
    },
    {
      "cell_type": "code",
      "metadata": {
        "id": "lS4HYBwc7kup",
        "colab_type": "code",
        "outputId": "80aa4ca9-ddb5-4818-ba48-3ce39a52f38e",
        "colab": {
          "base_uri": "https://localhost:8080/",
          "height": 204
        }
      },
      "source": [
        "fifa_dataset.head()"
      ],
      "execution_count": 188,
      "outputs": [
        {
          "output_type": "execute_result",
          "data": {
            "text/html": [
              "<div>\n",
              "<style scoped>\n",
              "    .dataframe tbody tr th:only-of-type {\n",
              "        vertical-align: middle;\n",
              "    }\n",
              "\n",
              "    .dataframe tbody tr th {\n",
              "        vertical-align: top;\n",
              "    }\n",
              "\n",
              "    .dataframe thead th {\n",
              "        text-align: right;\n",
              "    }\n",
              "</style>\n",
              "<table border=\"1\" class=\"dataframe\">\n",
              "  <thead>\n",
              "    <tr style=\"text-align: right;\">\n",
              "      <th></th>\n",
              "      <th>International Reputation</th>\n",
              "      <th>Overall</th>\n",
              "      <th>Potential</th>\n",
              "      <th>Reactions</th>\n",
              "      <th>Composure</th>\n",
              "      <th>Value</th>\n",
              "    </tr>\n",
              "  </thead>\n",
              "  <tbody>\n",
              "    <tr>\n",
              "      <th>0</th>\n",
              "      <td>5.0</td>\n",
              "      <td>94</td>\n",
              "      <td>94</td>\n",
              "      <td>95.0</td>\n",
              "      <td>96.0</td>\n",
              "      <td>110500000.0</td>\n",
              "    </tr>\n",
              "    <tr>\n",
              "      <th>1</th>\n",
              "      <td>5.0</td>\n",
              "      <td>94</td>\n",
              "      <td>94</td>\n",
              "      <td>96.0</td>\n",
              "      <td>95.0</td>\n",
              "      <td>77000000.0</td>\n",
              "    </tr>\n",
              "    <tr>\n",
              "      <th>2</th>\n",
              "      <td>5.0</td>\n",
              "      <td>92</td>\n",
              "      <td>93</td>\n",
              "      <td>94.0</td>\n",
              "      <td>94.0</td>\n",
              "      <td>118500000.0</td>\n",
              "    </tr>\n",
              "    <tr>\n",
              "      <th>3</th>\n",
              "      <td>4.0</td>\n",
              "      <td>91</td>\n",
              "      <td>93</td>\n",
              "      <td>90.0</td>\n",
              "      <td>68.0</td>\n",
              "      <td>72000000.0</td>\n",
              "    </tr>\n",
              "    <tr>\n",
              "      <th>4</th>\n",
              "      <td>4.0</td>\n",
              "      <td>91</td>\n",
              "      <td>92</td>\n",
              "      <td>91.0</td>\n",
              "      <td>88.0</td>\n",
              "      <td>102000000.0</td>\n",
              "    </tr>\n",
              "  </tbody>\n",
              "</table>\n",
              "</div>"
            ],
            "text/plain": [
              "   International Reputation  Overall  Potential  Reactions  Composure  \\\n",
              "0                       5.0       94         94       95.0       96.0   \n",
              "1                       5.0       94         94       96.0       95.0   \n",
              "2                       5.0       92         93       94.0       94.0   \n",
              "3                       4.0       91         93       90.0       68.0   \n",
              "4                       4.0       91         92       91.0       88.0   \n",
              "\n",
              "         Value  \n",
              "0  110500000.0  \n",
              "1   77000000.0  \n",
              "2  118500000.0  \n",
              "3   72000000.0  \n",
              "4  102000000.0  "
            ]
          },
          "metadata": {
            "tags": []
          },
          "execution_count": 188
        }
      ]
    },
    {
      "cell_type": "code",
      "metadata": {
        "id": "PGfeyJfR7rc4",
        "colab_type": "code",
        "outputId": "a58afb96-4fa4-4b21-d782-3a9c20746e37",
        "colab": {
          "base_uri": "https://localhost:8080/",
          "height": 297
        }
      },
      "source": [
        "fifa_dataset.describe()"
      ],
      "execution_count": 189,
      "outputs": [
        {
          "output_type": "execute_result",
          "data": {
            "text/html": [
              "<div>\n",
              "<style scoped>\n",
              "    .dataframe tbody tr th:only-of-type {\n",
              "        vertical-align: middle;\n",
              "    }\n",
              "\n",
              "    .dataframe tbody tr th {\n",
              "        vertical-align: top;\n",
              "    }\n",
              "\n",
              "    .dataframe thead th {\n",
              "        text-align: right;\n",
              "    }\n",
              "</style>\n",
              "<table border=\"1\" class=\"dataframe\">\n",
              "  <thead>\n",
              "    <tr style=\"text-align: right;\">\n",
              "      <th></th>\n",
              "      <th>International Reputation</th>\n",
              "      <th>Overall</th>\n",
              "      <th>Potential</th>\n",
              "      <th>Reactions</th>\n",
              "      <th>Composure</th>\n",
              "      <th>Value</th>\n",
              "    </tr>\n",
              "  </thead>\n",
              "  <tbody>\n",
              "    <tr>\n",
              "      <th>count</th>\n",
              "      <td>18159.000000</td>\n",
              "      <td>18207.000000</td>\n",
              "      <td>18207.000000</td>\n",
              "      <td>18159.000000</td>\n",
              "      <td>18159.000000</td>\n",
              "      <td>1.820700e+04</td>\n",
              "    </tr>\n",
              "    <tr>\n",
              "      <th>mean</th>\n",
              "      <td>1.113222</td>\n",
              "      <td>66.238699</td>\n",
              "      <td>71.307299</td>\n",
              "      <td>61.836610</td>\n",
              "      <td>58.648274</td>\n",
              "      <td>2.410696e+06</td>\n",
              "    </tr>\n",
              "    <tr>\n",
              "      <th>std</th>\n",
              "      <td>0.394031</td>\n",
              "      <td>6.908930</td>\n",
              "      <td>6.136496</td>\n",
              "      <td>9.010464</td>\n",
              "      <td>11.436133</td>\n",
              "      <td>5.594933e+06</td>\n",
              "    </tr>\n",
              "    <tr>\n",
              "      <th>min</th>\n",
              "      <td>1.000000</td>\n",
              "      <td>46.000000</td>\n",
              "      <td>48.000000</td>\n",
              "      <td>21.000000</td>\n",
              "      <td>3.000000</td>\n",
              "      <td>0.000000e+00</td>\n",
              "    </tr>\n",
              "    <tr>\n",
              "      <th>25%</th>\n",
              "      <td>1.000000</td>\n",
              "      <td>62.000000</td>\n",
              "      <td>67.000000</td>\n",
              "      <td>56.000000</td>\n",
              "      <td>51.000000</td>\n",
              "      <td>3.000000e+05</td>\n",
              "    </tr>\n",
              "    <tr>\n",
              "      <th>50%</th>\n",
              "      <td>1.000000</td>\n",
              "      <td>66.000000</td>\n",
              "      <td>71.000000</td>\n",
              "      <td>62.000000</td>\n",
              "      <td>60.000000</td>\n",
              "      <td>6.750000e+05</td>\n",
              "    </tr>\n",
              "    <tr>\n",
              "      <th>75%</th>\n",
              "      <td>1.000000</td>\n",
              "      <td>71.000000</td>\n",
              "      <td>75.000000</td>\n",
              "      <td>68.000000</td>\n",
              "      <td>67.000000</td>\n",
              "      <td>2.000000e+06</td>\n",
              "    </tr>\n",
              "    <tr>\n",
              "      <th>max</th>\n",
              "      <td>5.000000</td>\n",
              "      <td>94.000000</td>\n",
              "      <td>95.000000</td>\n",
              "      <td>96.000000</td>\n",
              "      <td>96.000000</td>\n",
              "      <td>1.185000e+08</td>\n",
              "    </tr>\n",
              "  </tbody>\n",
              "</table>\n",
              "</div>"
            ],
            "text/plain": [
              "       International Reputation       Overall     Potential     Reactions  \\\n",
              "count              18159.000000  18207.000000  18207.000000  18159.000000   \n",
              "mean                   1.113222     66.238699     71.307299     61.836610   \n",
              "std                    0.394031      6.908930      6.136496      9.010464   \n",
              "min                    1.000000     46.000000     48.000000     21.000000   \n",
              "25%                    1.000000     62.000000     67.000000     56.000000   \n",
              "50%                    1.000000     66.000000     71.000000     62.000000   \n",
              "75%                    1.000000     71.000000     75.000000     68.000000   \n",
              "max                    5.000000     94.000000     95.000000     96.000000   \n",
              "\n",
              "          Composure         Value  \n",
              "count  18159.000000  1.820700e+04  \n",
              "mean      58.648274  2.410696e+06  \n",
              "std       11.436133  5.594933e+06  \n",
              "min        3.000000  0.000000e+00  \n",
              "25%       51.000000  3.000000e+05  \n",
              "50%       60.000000  6.750000e+05  \n",
              "75%       67.000000  2.000000e+06  \n",
              "max       96.000000  1.185000e+08  "
            ]
          },
          "metadata": {
            "tags": []
          },
          "execution_count": 189
        }
      ]
    },
    {
      "cell_type": "markdown",
      "metadata": {
        "id": "NIrqWDXq9RKg",
        "colab_type": "text"
      },
      "source": [
        "# Discover and visualize the data to gain insights"
      ]
    },
    {
      "cell_type": "code",
      "metadata": {
        "id": "pkRxFL6Ka7WB",
        "colab_type": "code",
        "outputId": "b7c2cf42-3350-4a59-db2c-71a6bd5b1635",
        "colab": {
          "base_uri": "https://localhost:8080/",
          "height": 464
        }
      },
      "source": [
        "# Value ditribution\n",
        "plt.figure(1, figsize=(18, 7))\n",
        "sb.set(style=\"whitegrid\")\n",
        "sb.countplot( x= 'Value', data=fifa_dataset)\n",
        "plt.title('Value distribution of all players')\n",
        "plt.show()"
      ],
      "execution_count": 190,
      "outputs": [
        {
          "output_type": "display_data",
          "data": {
            "image/png": "[encoded data removed]",
            "text/plain": [
              "<Figure size 1296x504 with 1 Axes>"
            ]
          },
          "metadata": {
            "tags": []
          }
        }
      ]
    },
    {
      "cell_type": "code",
      "metadata": {
        "id": "IInDoAv09YH_",
        "colab_type": "code",
        "outputId": "972d672f-69d2-45ad-f6c6-736bf6a08826",
        "colab": {
          "base_uri": "https://localhost:8080/",
          "height": 895
        }
      },
      "source": [
        "%matplotlib inline\n",
        "fifa_dataset.hist(bins=50, figsize=(20,15))\n",
        "plt.show()"
      ],
      "execution_count": 191,
      "outputs": [
        {
          "output_type": "display_data",
          "data": {
            "image/png": "[encoded data removed]",
            "text/plain": [
              "<Figure size 1440x1080 with 6 Axes>"
            ]
          },
          "metadata": {
            "tags": []
          }
        }
      ]
    },
    {
      "cell_type": "markdown",
      "metadata": {
        "id": "UvVpMB_PAdfJ",
        "colab_type": "text"
      },
      "source": [
        "##Find Correlations"
      ]
    },
    {
      "cell_type": "code",
      "metadata": {
        "id": "8EUDCAYFECIO",
        "colab_type": "code",
        "outputId": "c1349df4-1353-474c-80de-770627b53239",
        "colab": {
          "base_uri": "https://localhost:8080/",
          "height": 34
        }
      },
      "source": [
        "corr_matrix = fifa_dataset.corr()\n",
        "corr_matrix.shape"
      ],
      "execution_count": 192,
      "outputs": [
        {
          "output_type": "execute_result",
          "data": {
            "text/plain": [
              "(6, 6)"
            ]
          },
          "metadata": {
            "tags": []
          },
          "execution_count": 192
        }
      ]
    },
    {
      "cell_type": "code",
      "metadata": {
        "id": "DQFZ4SwPEKHl",
        "colab_type": "code",
        "outputId": "164121d4-99b0-44b5-dbaa-09f5dd6ece05",
        "colab": {
          "base_uri": "https://localhost:8080/",
          "height": 136
        }
      },
      "source": [
        "\n",
        "corr_matrix[\"Value\"].sort_values(ascending=False)"
      ],
      "execution_count": 193,
      "outputs": [
        {
          "output_type": "execute_result",
          "data": {
            "text/plain": [
              "Value                       1.000000\n",
              "International Reputation    0.653176\n",
              "Overall                     0.627085\n",
              "Potential                   0.576218\n",
              "Reactions                   0.540552\n",
              "Composure                   0.450352\n",
              "Name: Value, dtype: float64"
            ]
          },
          "metadata": {
            "tags": []
          },
          "execution_count": 193
        }
      ]
    },
    {
      "cell_type": "code",
      "metadata": {
        "id": "Tatzeaj2-Yey",
        "colab_type": "code",
        "outputId": "e8972f39-e5e8-4981-949d-c49bfddce0f4",
        "colab": {
          "base_uri": "https://localhost:8080/",
          "height": 511
        }
      },
      "source": [
        "attributes = [\"Value\", \"International Reputation\", \"Overall\",\n",
        "              \"Potential\", \"Reactions\", \"Composure\"]\n",
        "scatter_matrix(fifa_dataset[attributes], figsize=(12, 8))\n",
        "plt.show()"
      ],
      "execution_count": 194,
      "outputs": [
        {
          "output_type": "display_data",
          "data": {
            "image/png": "[encoded data removed]",
            "text/plain": [
              "<Figure size 864x576 with 36 Axes>"
            ]
          },
          "metadata": {
            "tags": []
          }
        }
      ]
    },
    {
      "cell_type": "markdown",
      "metadata": {
        "colab_type": "text",
        "id": "gJX6LdblMfTY"
      },
      "source": [
        "#Creating Test Set"
      ]
    },
    {
      "cell_type": "code",
      "metadata": {
        "colab_type": "code",
        "id": "qsExp57yMfTb",
        "colab": {}
      },
      "source": [
        "# to make this notebook's output identical at every run\n",
        "np.random.seed(42)"
      ],
      "execution_count": 0,
      "outputs": []
    },
    {
      "cell_type": "code",
      "metadata": {
        "colab_type": "code",
        "id": "8L6eIDCsMfTn",
        "colab": {}
      },
      "source": [
        "#Split the dataset into TRAIN and TEST set. Giving 20% of data to test set.\n",
        "train_set, test_set = train_test_split(fifa_dataset, test_size=0.2, random_state=42)"
      ],
      "execution_count": 0,
      "outputs": []
    },
    {
      "cell_type": "code",
      "metadata": {
        "colab_type": "code",
        "outputId": "a286222a-bbe9-46da-fbb4-8e4a3481cb5e",
        "id": "cUDbkOIhMfT1",
        "colab": {
          "base_uri": "https://localhost:8080/",
          "height": 51
        }
      },
      "source": [
        "print('Train',' ','Test')\n",
        "print(len(train_set),'+',len(test_set),'=',len(train_set)+len(test_set))"
      ],
      "execution_count": 197,
      "outputs": [
        {
          "output_type": "stream",
          "text": [
            "Train   Test\n",
            "14565 + 3642 = 18207\n"
          ],
          "name": "stdout"
        }
      ]
    },
    {
      "cell_type": "markdown",
      "metadata": {
        "id": "DL1pKGFtNLqq",
        "colab_type": "text"
      },
      "source": [
        "# Prepare the data for Machine Learning algorithms"
      ]
    },
    {
      "cell_type": "markdown",
      "metadata": {
        "id": "-qzweoj-QydM",
        "colab_type": "text"
      },
      "source": [
        "##Data Cleaning"
      ]
    },
    {
      "cell_type": "code",
      "metadata": {
        "id": "tBew2rHsQ0x9",
        "colab_type": "code",
        "outputId": "044c57e8-47f4-4282-c2b6-d72ee3d1ecc7",
        "colab": {
          "base_uri": "https://localhost:8080/",
          "height": 187
        }
      },
      "source": [
        "l = list(train_set['Value'] == 0)\n",
        "print('Zeros in output label: ',len([v for v in l if v==True] ))\n",
        "print('\\nNaN values in following features:')\n",
        "train_set.isnull().any()\n",
        "\n"
      ],
      "execution_count": 198,
      "outputs": [
        {
          "output_type": "stream",
          "text": [
            "Zeros in output label:  208\n",
            "\n",
            "NaN values in following features:\n"
          ],
          "name": "stdout"
        },
        {
          "output_type": "execute_result",
          "data": {
            "text/plain": [
              "International Reputation     True\n",
              "Overall                     False\n",
              "Potential                   False\n",
              "Reactions                    True\n",
              "Composure                    True\n",
              "Value                       False\n",
              "dtype: bool"
            ]
          },
          "metadata": {
            "tags": []
          },
          "execution_count": 198
        }
      ]
    },
    {
      "cell_type": "code",
      "metadata": {
        "id": "xDxfl-2QNOb6",
        "colab_type": "code",
        "colab": {}
      },
      "source": [
        "train_set = train_set.replace(0, pd.np.nan)"
      ],
      "execution_count": 0,
      "outputs": []
    },
    {
      "cell_type": "markdown",
      "metadata": {
        "id": "9HPYi7hgRdHu",
        "colab_type": "text"
      },
      "source": [
        "### *Replace 'NaN' values with the median.*"
      ]
    },
    {
      "cell_type": "code",
      "metadata": {
        "id": "mykQmVwdRoBT",
        "colab_type": "code",
        "colab": {}
      },
      "source": [
        "imputer = SimpleImputer(strategy=\"median\")"
      ],
      "execution_count": 0,
      "outputs": []
    },
    {
      "cell_type": "code",
      "metadata": {
        "id": "-tt-WdaTRwMR",
        "colab_type": "code",
        "outputId": "6ed4132d-814b-4662-e21d-10ff48ae8eb0",
        "colab": {
          "base_uri": "https://localhost:8080/",
          "height": 51
        }
      },
      "source": [
        "imputer.fit(train_set)"
      ],
      "execution_count": 201,
      "outputs": [
        {
          "output_type": "execute_result",
          "data": {
            "text/plain": [
              "SimpleImputer(copy=True, fill_value=None, missing_values=nan,\n",
              "       strategy='median', verbose=0)"
            ]
          },
          "metadata": {
            "tags": []
          },
          "execution_count": 201
        }
      ]
    },
    {
      "cell_type": "code",
      "metadata": {
        "id": "r2zRCeblR0xB",
        "colab_type": "code",
        "outputId": "54c1e02b-6f7c-40bc-91a8-771db76a405a",
        "colab": {
          "base_uri": "https://localhost:8080/",
          "height": 34
        }
      },
      "source": [
        "imputer.statistics_"
      ],
      "execution_count": 202,
      "outputs": [
        {
          "output_type": "execute_result",
          "data": {
            "text/plain": [
              "array([1.0e+00, 6.6e+01, 7.1e+01, 6.2e+01, 6.0e+01, 7.0e+05])"
            ]
          },
          "metadata": {
            "tags": []
          },
          "execution_count": 202
        }
      ]
    },
    {
      "cell_type": "code",
      "metadata": {
        "id": "6K2rDVC0S9Le",
        "colab_type": "code",
        "colab": {}
      },
      "source": [
        "tf = imputer.transform(train_set)"
      ],
      "execution_count": 0,
      "outputs": []
    },
    {
      "cell_type": "code",
      "metadata": {
        "id": "DPVptao-TMsz",
        "colab_type": "code",
        "colab": {}
      },
      "source": [
        "fifa_dataset_tf = pd.DataFrame(tf, columns=fifa_dataset.columns)"
      ],
      "execution_count": 0,
      "outputs": []
    },
    {
      "cell_type": "code",
      "metadata": {
        "id": "ikwDt1uiTaTj",
        "colab_type": "code",
        "outputId": "c9c15c81-d7ed-4720-a374-2de4375bf4a5",
        "colab": {
          "base_uri": "https://localhost:8080/",
          "height": 204
        }
      },
      "source": [
        "fifa_dataset_tf.head()"
      ],
      "execution_count": 205,
      "outputs": [
        {
          "output_type": "execute_result",
          "data": {
            "text/html": [
              "<div>\n",
              "<style scoped>\n",
              "    .dataframe tbody tr th:only-of-type {\n",
              "        vertical-align: middle;\n",
              "    }\n",
              "\n",
              "    .dataframe tbody tr th {\n",
              "        vertical-align: top;\n",
              "    }\n",
              "\n",
              "    .dataframe thead th {\n",
              "        text-align: right;\n",
              "    }\n",
              "</style>\n",
              "<table border=\"1\" class=\"dataframe\">\n",
              "  <thead>\n",
              "    <tr style=\"text-align: right;\">\n",
              "      <th></th>\n",
              "      <th>International Reputation</th>\n",
              "      <th>Overall</th>\n",
              "      <th>Potential</th>\n",
              "      <th>Reactions</th>\n",
              "      <th>Composure</th>\n",
              "      <th>Value</th>\n",
              "    </tr>\n",
              "  </thead>\n",
              "  <tbody>\n",
              "    <tr>\n",
              "      <th>0</th>\n",
              "      <td>1.0</td>\n",
              "      <td>54.0</td>\n",
              "      <td>66.0</td>\n",
              "      <td>47.0</td>\n",
              "      <td>42.0</td>\n",
              "      <td>100000.0</td>\n",
              "    </tr>\n",
              "    <tr>\n",
              "      <th>1</th>\n",
              "      <td>1.0</td>\n",
              "      <td>69.0</td>\n",
              "      <td>80.0</td>\n",
              "      <td>70.0</td>\n",
              "      <td>70.0</td>\n",
              "      <td>1600000.0</td>\n",
              "    </tr>\n",
              "    <tr>\n",
              "      <th>2</th>\n",
              "      <td>1.0</td>\n",
              "      <td>65.0</td>\n",
              "      <td>65.0</td>\n",
              "      <td>59.0</td>\n",
              "      <td>52.0</td>\n",
              "      <td>400000.0</td>\n",
              "    </tr>\n",
              "    <tr>\n",
              "      <th>3</th>\n",
              "      <td>3.0</td>\n",
              "      <td>83.0</td>\n",
              "      <td>89.0</td>\n",
              "      <td>70.0</td>\n",
              "      <td>72.0</td>\n",
              "      <td>35000000.0</td>\n",
              "    </tr>\n",
              "    <tr>\n",
              "      <th>4</th>\n",
              "      <td>1.0</td>\n",
              "      <td>72.0</td>\n",
              "      <td>83.0</td>\n",
              "      <td>64.0</td>\n",
              "      <td>67.0</td>\n",
              "      <td>5500000.0</td>\n",
              "    </tr>\n",
              "  </tbody>\n",
              "</table>\n",
              "</div>"
            ],
            "text/plain": [
              "   International Reputation  Overall  Potential  Reactions  Composure  \\\n",
              "0                       1.0     54.0       66.0       47.0       42.0   \n",
              "1                       1.0     69.0       80.0       70.0       70.0   \n",
              "2                       1.0     65.0       65.0       59.0       52.0   \n",
              "3                       3.0     83.0       89.0       70.0       72.0   \n",
              "4                       1.0     72.0       83.0       64.0       67.0   \n",
              "\n",
              "        Value  \n",
              "0    100000.0  \n",
              "1   1600000.0  \n",
              "2    400000.0  \n",
              "3  35000000.0  \n",
              "4   5500000.0  "
            ]
          },
          "metadata": {
            "tags": []
          },
          "execution_count": 205
        }
      ]
    },
    {
      "cell_type": "code",
      "metadata": {
        "id": "UOUwSffCTcg3",
        "colab_type": "code",
        "outputId": "8f8db8f3-df29-42a5-da53-e99774a9da99",
        "colab": {
          "base_uri": "https://localhost:8080/",
          "height": 136
        }
      },
      "source": [
        "# No NULL value present after imputation.\n",
        "fifa_dataset_tf.isnull().any()"
      ],
      "execution_count": 207,
      "outputs": [
        {
          "output_type": "execute_result",
          "data": {
            "text/plain": [
              "International Reputation    False\n",
              "Overall                     False\n",
              "Potential                   False\n",
              "Reactions                   False\n",
              "Composure                   False\n",
              "Value                       False\n",
              "dtype: bool"
            ]
          },
          "metadata": {
            "tags": []
          },
          "execution_count": 207
        }
      ]
    },
    {
      "cell_type": "markdown",
      "metadata": {
        "id": "0ZWkOBYYUEZX",
        "colab_type": "text"
      },
      "source": [
        "##Seperate the Features and Label"
      ]
    },
    {
      "cell_type": "code",
      "metadata": {
        "id": "sVK_nK7EUSM-",
        "colab_type": "code",
        "colab": {}
      },
      "source": [
        "fifa_dataset_features = fifa_dataset_tf.drop(\"Value\", axis=1) # drop labels for training set\n",
        "fifa_dataset_labels = fifa_dataset_tf[\"Value\"].copy()"
      ],
      "execution_count": 0,
      "outputs": []
    },
    {
      "cell_type": "markdown",
      "metadata": {
        "id": "QpX2Bq-5T54q",
        "colab_type": "text"
      },
      "source": [
        "# Select and train a model \n",
        "###`Before directly training on the test set, first train and evaluate on the training set. `\n",
        "###`Also, try different ML algorithms and choose which fits best on the data.`"
      ]
    },
    {
      "cell_type": "markdown",
      "metadata": {
        "id": "4o46_GenL3sO",
        "colab_type": "text"
      },
      "source": [
        "##Linear Regression"
      ]
    },
    {
      "cell_type": "code",
      "metadata": {
        "id": "5Q5v61dYUn7G",
        "colab_type": "code",
        "outputId": "9fd951a8-fcb8-4b80-ed07-8f3922d2e192",
        "colab": {
          "base_uri": "https://localhost:8080/",
          "height": 51
        }
      },
      "source": [
        "lin_reg = LinearRegression()\n",
        "lin_reg.fit(fifa_dataset_features, fifa_dataset_labels)"
      ],
      "execution_count": 209,
      "outputs": [
        {
          "output_type": "execute_result",
          "data": {
            "text/plain": [
              "LinearRegression(copy_X=True, fit_intercept=True, n_jobs=None,\n",
              "         normalize=False)"
            ]
          },
          "metadata": {
            "tags": []
          },
          "execution_count": 209
        }
      ]
    },
    {
      "cell_type": "code",
      "metadata": {
        "id": "7hVzo3WWVA6k",
        "colab_type": "code",
        "outputId": "f864475e-443b-449a-c743-794044f881db",
        "colab": {
          "base_uri": "https://localhost:8080/",
          "height": 34
        }
      },
      "source": [
        "fifa_dataset_predictions = lin_reg.predict(fifa_dataset_features)\n",
        "lin_mse = mean_squared_error(fifa_dataset_labels, fifa_dataset_predictions)\n",
        "lin_rmse = np.sqrt(lin_mse)\n",
        "lin_rmse"
      ],
      "execution_count": 213,
      "outputs": [
        {
          "output_type": "execute_result",
          "data": {
            "text/plain": [
              "3623613.6330418903"
            ]
          },
          "metadata": {
            "tags": []
          },
          "execution_count": 213
        }
      ]
    },
    {
      "cell_type": "code",
      "metadata": {
        "id": "d1vrhrVeVH7J",
        "colab_type": "code",
        "outputId": "f1828ffd-7cf5-4265-bd31-0e47f12e3f4a",
        "colab": {
          "base_uri": "https://localhost:8080/",
          "height": 34
        }
      },
      "source": [
        "score = r2_score(fifa_dataset_labels, fifa_dataset_predictions)  \n",
        "print('Accuracy:',format(score*100,'.2f'),'%')"
      ],
      "execution_count": 214,
      "outputs": [
        {
          "output_type": "stream",
          "text": [
            "Accuracy: 58.38 %\n"
          ],
          "name": "stdout"
        }
      ]
    },
    {
      "cell_type": "markdown",
      "metadata": {
        "id": "Wmvpa_H4L8an",
        "colab_type": "text"
      },
      "source": [
        "##Decision Trees"
      ]
    },
    {
      "cell_type": "code",
      "metadata": {
        "id": "HiynLkfJL_W1",
        "colab_type": "code",
        "outputId": "d99dbcd7-0538-47b3-95d7-c13f3b6e927d",
        "colab": {
          "base_uri": "https://localhost:8080/",
          "height": 102
        }
      },
      "source": [
        "tree_reg = DecisionTreeRegressor(random_state=42)\n",
        "tree_reg.fit(fifa_dataset_features, fifa_dataset_labels)"
      ],
      "execution_count": 215,
      "outputs": [
        {
          "output_type": "execute_result",
          "data": {
            "text/plain": [
              "DecisionTreeRegressor(criterion='mse', max_depth=None, max_features=None,\n",
              "           max_leaf_nodes=None, min_impurity_decrease=0.0,\n",
              "           min_impurity_split=None, min_samples_leaf=1,\n",
              "           min_samples_split=2, min_weight_fraction_leaf=0.0,\n",
              "           presort=False, random_state=42, splitter='best')"
            ]
          },
          "metadata": {
            "tags": []
          },
          "execution_count": 215
        }
      ]
    },
    {
      "cell_type": "code",
      "metadata": {
        "id": "eyWMgPHpMKh0",
        "colab_type": "code",
        "outputId": "21c8f6d6-2b44-416e-ed01-724684c356b0",
        "colab": {
          "base_uri": "https://localhost:8080/",
          "height": 34
        }
      },
      "source": [
        "fifa_dataset_predictions = tree_reg.predict(fifa_dataset_features)\n",
        "tree_mse = mean_squared_error(fifa_dataset_labels, fifa_dataset_predictions)\n",
        "tree_rmse = np.sqrt(tree_mse)\n",
        "tree_rmse"
      ],
      "execution_count": 216,
      "outputs": [
        {
          "output_type": "execute_result",
          "data": {
            "text/plain": [
              "290071.64089949714"
            ]
          },
          "metadata": {
            "tags": []
          },
          "execution_count": 216
        }
      ]
    },
    {
      "cell_type": "code",
      "metadata": {
        "id": "vqCT_Qr3MaKU",
        "colab_type": "code",
        "outputId": "d872cde1-7d14-43ef-acc6-6d18884f1540",
        "colab": {
          "base_uri": "https://localhost:8080/",
          "height": 34
        }
      },
      "source": [
        "score = r2_score(fifa_dataset_labels, fifa_dataset_predictions)  \n",
        "print('Accuracy:',format(score*100,'.2f'),'%')"
      ],
      "execution_count": 217,
      "outputs": [
        {
          "output_type": "stream",
          "text": [
            "Accuracy: 99.73 %\n"
          ],
          "name": "stdout"
        }
      ]
    },
    {
      "cell_type": "markdown",
      "metadata": {
        "colab_type": "text",
        "id": "y8iVIhM2-Y5l"
      },
      "source": [
        "##Random Forest"
      ]
    },
    {
      "cell_type": "code",
      "metadata": {
        "colab_type": "code",
        "outputId": "43232a53-e864-493e-c353-73a509f8b3df",
        "id": "udhVrZVP-EAG",
        "colab": {
          "base_uri": "https://localhost:8080/",
          "height": 119
        }
      },
      "source": [
        "forest_reg = RandomForestRegressor(n_estimators=100, random_state=42)\n",
        "forest_reg.fit(fifa_dataset_features, fifa_dataset_labels)"
      ],
      "execution_count": 218,
      "outputs": [
        {
          "output_type": "execute_result",
          "data": {
            "text/plain": [
              "RandomForestRegressor(bootstrap=True, criterion='mse', max_depth=None,\n",
              "           max_features='auto', max_leaf_nodes=None,\n",
              "           min_impurity_decrease=0.0, min_impurity_split=None,\n",
              "           min_samples_leaf=1, min_samples_split=2,\n",
              "           min_weight_fraction_leaf=0.0, n_estimators=100, n_jobs=None,\n",
              "           oob_score=False, random_state=42, verbose=0, warm_start=False)"
            ]
          },
          "metadata": {
            "tags": []
          },
          "execution_count": 218
        }
      ]
    },
    {
      "cell_type": "code",
      "metadata": {
        "colab_type": "code",
        "outputId": "b6d78d03-3266-430b-d2f7-f7301e875a15",
        "id": "2cCQZjgK-EAS",
        "colab": {
          "base_uri": "https://localhost:8080/",
          "height": 34
        }
      },
      "source": [
        "fifa_dataset_predictions = forest_reg.predict(fifa_dataset_features)\n",
        "forest_mse = mean_squared_error(fifa_dataset_labels, fifa_dataset_predictions)\n",
        "forest_rmse = np.sqrt(forest_mse)\n",
        "forest_rmse"
      ],
      "execution_count": 219,
      "outputs": [
        {
          "output_type": "execute_result",
          "data": {
            "text/plain": [
              "549450.5604146039"
            ]
          },
          "metadata": {
            "tags": []
          },
          "execution_count": 219
        }
      ]
    },
    {
      "cell_type": "code",
      "metadata": {
        "colab_type": "code",
        "outputId": "ee190fb4-aadd-40e4-a625-b1f17c9e969c",
        "id": "7QScaBI9-EAa",
        "colab": {
          "base_uri": "https://localhost:8080/",
          "height": 34
        }
      },
      "source": [
        "score = r2_score(fifa_dataset_labels, fifa_dataset_predictions)  \n",
        "print('Accuracy:',format(score*100,'.2f'),'%')"
      ],
      "execution_count": 220,
      "outputs": [
        {
          "output_type": "stream",
          "text": [
            "Accuracy: 99.04 %\n"
          ],
          "name": "stdout"
        }
      ]
    },
    {
      "cell_type": "markdown",
      "metadata": {
        "id": "WJKMwmubMzdr",
        "colab_type": "text"
      },
      "source": [
        "##Evaluation using Cross-Validation"
      ]
    },
    {
      "cell_type": "code",
      "metadata": {
        "id": "c1H-QfIaNrvI",
        "colab_type": "code",
        "colab": {}
      },
      "source": [
        "scores = cross_val_score(tree_reg, fifa_dataset_features, fifa_dataset_labels,\n",
        "                         scoring=\"neg_mean_squared_error\", cv=10)\n",
        "tree_rmse_scores = np.sqrt(-scores)"
      ],
      "execution_count": 0,
      "outputs": []
    },
    {
      "cell_type": "code",
      "metadata": {
        "id": "rIqZu0lyOgNc",
        "colab_type": "code",
        "outputId": "94be05be-88df-4143-8ef4-3863507d4ed9",
        "colab": {
          "base_uri": "https://localhost:8080/",
          "height": 102
        }
      },
      "source": [
        "def display_scores(scores):\n",
        "    print(\"Scores:\", scores)\n",
        "    print(\"Mean:\", scores.mean())\n",
        "    print(\"Standard deviation:\", scores.std())\n",
        "\n",
        "display_scores(tree_rmse_scores)"
      ],
      "execution_count": 222,
      "outputs": [
        {
          "output_type": "stream",
          "text": [
            "Scores: [2155951.11748813 1234189.49835356 1693858.33123115 1597052.78625811\n",
            " 1753147.1346397  1623110.49887258 2001996.2681026  1801268.17425133\n",
            " 1614963.97567008 1627464.88382209]\n",
            "Mean: 1710300.2668689345\n",
            "Standard deviation: 236036.39757470996\n"
          ],
          "name": "stdout"
        }
      ]
    },
    {
      "cell_type": "code",
      "metadata": {
        "id": "9vIbhgbhO03j",
        "colab_type": "code",
        "outputId": "81ca4a13-0435-4604-bd04-541f65b3c1ff",
        "colab": {
          "base_uri": "https://localhost:8080/",
          "height": 102
        }
      },
      "source": [
        "lin_scores = cross_val_score(lin_reg, fifa_dataset_features, fifa_dataset_labels,\n",
        "                             scoring=\"neg_mean_squared_error\", cv=10)\n",
        "lin_rmse_scores = np.sqrt(-lin_scores)\n",
        "display_scores(lin_rmse_scores)"
      ],
      "execution_count": 223,
      "outputs": [
        {
          "output_type": "stream",
          "text": [
            "Scores: [4417475.90050168 2900261.62095839 3478483.64803492 3570553.48178237\n",
            " 3846547.46276483 3319064.39232194 3988251.76117373 3385779.62696229\n",
            " 3736946.69941324 3454241.81213971]\n",
            "Mean: 3609760.6406053104\n",
            "Standard deviation: 393563.38502574514\n"
          ],
          "name": "stdout"
        }
      ]
    },
    {
      "cell_type": "code",
      "metadata": {
        "id": "0fV-NjAbQNQV",
        "colab_type": "code",
        "outputId": "8aa983ed-4b1f-4afb-f07d-bffe9f937b65",
        "colab": {
          "base_uri": "https://localhost:8080/",
          "height": 102
        }
      },
      "source": [
        "forest_scores = cross_val_score(forest_reg, fifa_dataset_features, fifa_dataset_labels,\n",
        "                                scoring=\"neg_mean_squared_error\", cv=10)\n",
        "forest_rmse_scores = np.sqrt(-forest_scores)\n",
        "display_scores(forest_rmse_scores)"
      ],
      "execution_count": 224,
      "outputs": [
        {
          "output_type": "stream",
          "text": [
            "Scores: [1605397.90054926 1001137.56365965 1116074.00451624 1418538.47193818\n",
            " 1399719.4641721  1313974.57235987 1597414.51247327 1276012.94070175\n",
            " 1035097.07210787 1319974.38011964]\n",
            "Mean: 1308334.088259783\n",
            "Standard deviation: 199878.6564158338\n"
          ],
          "name": "stdout"
        }
      ]
    },
    {
      "cell_type": "markdown",
      "metadata": {
        "id": "zOe0gXKhROSw",
        "colab_type": "text"
      },
      "source": [
        "#Fine-Tune the Model"
      ]
    },
    {
      "cell_type": "markdown",
      "metadata": {
        "id": "vD3NZL_PRUU7",
        "colab_type": "text"
      },
      "source": [
        "##Grid Search"
      ]
    },
    {
      "cell_type": "code",
      "metadata": {
        "id": "exXSiHxPRX04",
        "colab_type": "code",
        "outputId": "25b364e3-ba57-40d8-d672-f25f985ebbd2",
        "colab": {
          "base_uri": "https://localhost:8080/",
          "height": 224
        }
      },
      "source": [
        "param_grid = [\n",
        "    {'n_estimators': [3, 10, 30], 'max_features': [2, 3, 4]},\n",
        "    {'bootstrap': [False], 'n_estimators': [3, 10], 'max_features': [2, 3, 4]},\n",
        "  ]\n",
        "\n",
        "forest_reg = RandomForestRegressor(random_state=42)\n",
        "\n",
        "grid_search = GridSearchCV(forest_reg, param_grid, cv=5,\n",
        "                           scoring='neg_mean_squared_error',\n",
        "                           return_train_score=True)\n",
        "grid_search.fit(fifa_dataset_features, fifa_dataset_labels)"
      ],
      "execution_count": 225,
      "outputs": [
        {
          "output_type": "execute_result",
          "data": {
            "text/plain": [
              "GridSearchCV(cv=5, error_score='raise-deprecating',\n",
              "       estimator=RandomForestRegressor(bootstrap=True, criterion='mse', max_depth=None,\n",
              "           max_features='auto', max_leaf_nodes=None,\n",
              "           min_impurity_decrease=0.0, min_impurity_split=None,\n",
              "           min_samples_leaf=1, min_samples_split=2,\n",
              "           min_weight_fraction_leaf=0.0, n_estimators='warn', n_jobs=None,\n",
              "           oob_score=False, random_state=42, verbose=0, warm_start=False),\n",
              "       fit_params=None, iid='warn', n_jobs=None,\n",
              "       param_grid=[{'n_estimators': [3, 10, 30], 'max_features': [2, 3, 4]}, {'bootstrap': [False], 'n_estimators': [3, 10], 'max_features': [2, 3, 4]}],\n",
              "       pre_dispatch='2*n_jobs', refit=True, return_train_score=True,\n",
              "       scoring='neg_mean_squared_error', verbose=0)"
            ]
          },
          "metadata": {
            "tags": []
          },
          "execution_count": 225
        }
      ]
    },
    {
      "cell_type": "code",
      "metadata": {
        "id": "WT7Ew_zRQojI",
        "colab_type": "code",
        "outputId": "3b3b299b-a730-4b5b-8ba6-db171048f76c",
        "colab": {
          "base_uri": "https://localhost:8080/",
          "height": 34
        }
      },
      "source": [
        "grid_search.best_params_"
      ],
      "execution_count": 226,
      "outputs": [
        {
          "output_type": "execute_result",
          "data": {
            "text/plain": [
              "{'max_features': 3, 'n_estimators': 30}"
            ]
          },
          "metadata": {
            "tags": []
          },
          "execution_count": 226
        }
      ]
    },
    {
      "cell_type": "code",
      "metadata": {
        "id": "AYPgm8W6TieE",
        "colab_type": "code",
        "outputId": "b714d564-35b9-4a4a-8fb5-926a480f72e7",
        "colab": {
          "base_uri": "https://localhost:8080/",
          "height": 119
        }
      },
      "source": [
        "grid_search.best_estimator_"
      ],
      "execution_count": 227,
      "outputs": [
        {
          "output_type": "execute_result",
          "data": {
            "text/plain": [
              "RandomForestRegressor(bootstrap=True, criterion='mse', max_depth=None,\n",
              "           max_features=3, max_leaf_nodes=None, min_impurity_decrease=0.0,\n",
              "           min_impurity_split=None, min_samples_leaf=1,\n",
              "           min_samples_split=2, min_weight_fraction_leaf=0.0,\n",
              "           n_estimators=30, n_jobs=None, oob_score=False, random_state=42,\n",
              "           verbose=0, warm_start=False)"
            ]
          },
          "metadata": {
            "tags": []
          },
          "execution_count": 227
        }
      ]
    },
    {
      "cell_type": "code",
      "metadata": {
        "id": "32THnrCsTk_T",
        "colab_type": "code",
        "outputId": "bbae5ae1-1522-4494-dd23-58c1429f7fd9",
        "colab": {
          "base_uri": "https://localhost:8080/",
          "height": 272
        }
      },
      "source": [
        "cvres = grid_search.cv_results_\n",
        "for mean_score, params in zip(cvres[\"mean_test_score\"], cvres[\"params\"]):\n",
        "    print(np.sqrt(-mean_score), params)"
      ],
      "execution_count": 228,
      "outputs": [
        {
          "output_type": "stream",
          "text": [
            "1556181.426818337 {'max_features': 2, 'n_estimators': 3}\n",
            "1381554.334188145 {'max_features': 2, 'n_estimators': 10}\n",
            "1349580.3427347215 {'max_features': 2, 'n_estimators': 30}\n",
            "1460755.722742697 {'max_features': 3, 'n_estimators': 3}\n",
            "1357892.041584997 {'max_features': 3, 'n_estimators': 10}\n",
            "1318916.6276779054 {'max_features': 3, 'n_estimators': 30}\n",
            "1500773.7675300613 {'max_features': 4, 'n_estimators': 3}\n",
            "1384480.6448976204 {'max_features': 4, 'n_estimators': 10}\n",
            "1336044.5033546558 {'max_features': 4, 'n_estimators': 30}\n",
            "1613047.161735568 {'bootstrap': False, 'max_features': 2, 'n_estimators': 3}\n",
            "1483368.1628806007 {'bootstrap': False, 'max_features': 2, 'n_estimators': 10}\n",
            "1561636.1846224545 {'bootstrap': False, 'max_features': 3, 'n_estimators': 3}\n",
            "1463144.3075867803 {'bootstrap': False, 'max_features': 3, 'n_estimators': 10}\n",
            "1616279.1216557298 {'bootstrap': False, 'max_features': 4, 'n_estimators': 3}\n",
            "1535817.460078731 {'bootstrap': False, 'max_features': 4, 'n_estimators': 10}\n"
          ],
          "name": "stdout"
        }
      ]
    },
    {
      "cell_type": "markdown",
      "metadata": {
        "id": "cGhZqXoxUdrt",
        "colab_type": "text"
      },
      "source": [
        "\n",
        "#Evaluate the model on the Test Set"
      ]
    },
    {
      "cell_type": "code",
      "metadata": {
        "colab_type": "code",
        "id": "tuXHRJcLWE6u",
        "colab": {}
      },
      "source": [
        "test_set = test_set.replace(0, pd.np.nan)\n",
        "tf = imputer.transform(test_set)\n",
        "fifa_dataset_tf = pd.DataFrame(tf, columns=fifa_dataset.columns)"
      ],
      "execution_count": 0,
      "outputs": []
    },
    {
      "cell_type": "code",
      "metadata": {
        "colab_type": "code",
        "id": "ejz-eVBSWE7L",
        "colab": {}
      },
      "source": [
        "fifa_dataset_features = fifa_dataset_tf.drop(\"Value\", axis=1)\n",
        "fifa_dataset_labels = fifa_dataset_tf[\"Value\"].copy()"
      ],
      "execution_count": 0,
      "outputs": []
    },
    {
      "cell_type": "code",
      "metadata": {
        "id": "HIgOdiA7Wotl",
        "colab_type": "code",
        "outputId": "d2975fc8-390f-4f29-f0e3-2948ff42f24d",
        "colab": {
          "base_uri": "https://localhost:8080/",
          "height": 34
        }
      },
      "source": [
        "final_model = grid_search.best_estimator_\n",
        "\n",
        "final_model.fit(fifa_dataset_features, fifa_dataset_labels)\n",
        "final_predictions = final_model.predict(fifa_dataset_features)\n",
        "\n",
        "final_mse = mean_squared_error(fifa_dataset_labels, final_predictions)\n",
        "final_rmse = np.sqrt(final_mse)\n",
        "final_rmse"
      ],
      "execution_count": 232,
      "outputs": [
        {
          "output_type": "execute_result",
          "data": {
            "text/plain": [
              "618448.2934420329"
            ]
          },
          "metadata": {
            "tags": []
          },
          "execution_count": 232
        }
      ]
    },
    {
      "cell_type": "code",
      "metadata": {
        "id": "fY-Nb8sXXm6_",
        "colab_type": "code",
        "outputId": "616801f8-c242-4560-f8b1-7a1aeb4f7a74",
        "colab": {
          "base_uri": "https://localhost:8080/",
          "height": 34
        }
      },
      "source": [
        "final_model_score = r2_score(fifa_dataset_labels, final_predictions)  \n",
        "print('Accuracy:',format(final_model_score*100,'.2f'),'%')"
      ],
      "execution_count": 233,
      "outputs": [
        {
          "output_type": "stream",
          "text": [
            "Accuracy: 98.73 %\n"
          ],
          "name": "stdout"
        }
      ]
    }
  ]
}